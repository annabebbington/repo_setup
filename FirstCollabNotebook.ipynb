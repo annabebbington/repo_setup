{
  "nbformat": 4,
  "nbformat_minor": 0,
  "metadata": {
    "colab": {
      "name": "FirstCollabNotebook",
      "provenance": [],
      "authorship_tag": "ABX9TyNGm5qGFmCMw6lV7WfAac9n",
      "include_colab_link": true
    },
    "kernelspec": {
      "name": "python3",
      "display_name": "Python 3"
    }
  },
  "cells": [
    {
      "cell_type": "markdown",
      "metadata": {
        "id": "view-in-github",
        "colab_type": "text"
      },
      "source": [
        "<a href=\"https://colab.research.google.com/github/annabebbington/repo_setup/blob/master/FirstCollabNotebook.ipynb\" target=\"_parent\"><img src=\"https://colab.research.google.com/assets/colab-badge.svg\" alt=\"Open In Colab\"/></a>"
      ]
    },
    {
      "cell_type": "code",
      "metadata": {
        "id": "hMc1gbqCJ6EE",
        "colab_type": "code",
        "colab": {}
      },
      "source": [
        "#Colab for first coding assignment\n"
      ],
      "execution_count": 1,
      "outputs": []
    }
  ]
}