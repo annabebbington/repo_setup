{
  "nbformat": 4,
  "nbformat_minor": 0,
  "metadata": {
    "colab": {
      "name": "LectureCodeAlong_27/8.ipynb",
      "provenance": [],
      "authorship_tag": "ABX9TyMcKIi6YeLGHCEj+qc6qVxH",
      "include_colab_link": true
    },
    "kernelspec": {
      "name": "python3",
      "display_name": "Python 3"
    }
  },
  "cells": [
    {
      "cell_type": "markdown",
      "metadata": {
        "id": "view-in-github",
        "colab_type": "text"
      },
      "source": [
        "<a href=\"https://colab.research.google.com/github/annabebbington/repo_setup/blob/master/LectureCodeAlong_27_8.ipynb\" target=\"_parent\"><img src=\"https://colab.research.google.com/assets/colab-badge.svg\" alt=\"Open In Colab\"/></a>"
      ]
    },
    {
      "cell_type": "code",
      "metadata": {
        "id": "Qs29yrTDs4VR",
        "colab_type": "code",
        "colab": {
          "base_uri": "https://localhost:8080/",
          "height": 68
        },
        "outputId": "0cc0e7ee-885a-42bf-ee0d-55f6898a0b3c"
      },
      "source": [
        "\"\"\"\n",
        "Anna Bebbington\n",
        "Thursday\n",
        "\"\"\"\n",
        "\n",
        "#calculating the radius of a circle\n",
        "pi=3.14\n",
        "r=2\n",
        "area=pi*(r**2)\n",
        "perim=2.0*pi*r\n",
        "print(\"Given r:\", r)\n",
        "print(\"Area is:\", area)\n",
        "print(\"Perimeter is:\", perim)"
      ],
      "execution_count": 2,
      "outputs": [
        {
          "output_type": "stream",
          "text": [
            "Given r: 2\n",
            "Area is: 12.56\n",
            "Perimeter is: 12.56\n"
          ],
          "name": "stdout"
        }
      ]
    }
  ]
}